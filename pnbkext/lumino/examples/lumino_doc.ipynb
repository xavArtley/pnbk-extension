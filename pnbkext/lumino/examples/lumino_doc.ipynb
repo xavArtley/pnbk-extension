{
 "cells": [
  {
   "cell_type": "code",
   "execution_count": null,
   "metadata": {},
   "outputs": [],
   "source": [
    "import panel as pn\n",
    "import holoviews as hv\n",
    "import panel.widgets as pnw\n",
    "from pnbkext.lumino.pane.lumino import LuminoDataGrid, LuminoDock\n",
    "# must be import before calling pn.extension else model will not be register\n",
    "from bokeh.sampledata.autompg import autompg\n",
    "\n",
    "if pn.state.curdoc is not None:\n",
    "    # lumino css is already imported in juyter lab but not if deployed on a bokeh server\n",
    "    # importing a second time the css make jupyter lab not usable\n",
    "    import os\n",
    "    import pnbkext\n",
    "    with open(os.path.join(pnbkext.__path__[0], 'lumino', 'styles', 'style.css'), 'r') as f:\n",
    "        lumino_css = f.read()\n",
    "    pn.extension(raw_css=[lumino_css])\n",
    "else:\n",
    "    pn.extension()\n",
    "hv.extension('bokeh')"
   ]
  },
  {
   "cell_type": "code",
   "execution_count": null,
   "metadata": {},
   "outputs": [],
   "source": [
    "df = autompg.copy()\n",
    "\n",
    "ORIGINS = ['North America', 'Europe', 'Asia']\n",
    "\n",
    "# data cleanup\n",
    "df.origin = [ORIGINS[x-1] for x in df.origin]\n",
    "\n",
    "df['mfr'] = [x.split()[0] for x in df.name]\n",
    "df.loc[df.mfr=='chevy', 'mfr'] = 'chevrolet'\n",
    "df.loc[df.mfr=='chevroelt', 'mfr'] = 'chevrolet'\n",
    "df.loc[df.mfr=='maxda', 'mfr'] = 'mazda'\n",
    "df.loc[df.mfr=='mercedes-benz', 'mfr'] = 'mercedes'\n",
    "df.loc[df.mfr=='toyouta', 'mfr'] = 'toyota'\n",
    "df.loc[df.mfr=='vokswagen', 'mfr'] = 'volkswagen'\n",
    "df.loc[df.mfr=='vw', 'mfr'] = 'volkswagen'\n",
    "del df['name']\n",
    "\n",
    "columns = sorted(df.columns)\n",
    "discrete = [x for x in columns if df[x].dtype == object]\n",
    "continuous = [x for x in columns if x not in discrete]\n",
    "quantileable = [x for x in continuous if len(df[x].unique()) > 20]\n",
    "\n",
    "x = pnw.Select(name='X-Axis', value='mpg', options=quantileable)\n",
    "y = pnw.Select(name='Y-Axis', value='hp', options=quantileable)\n",
    "size = pnw.Select(name='Size', value='None', options=['None'] + quantileable)\n",
    "color = pnw.Select(name='Color', value='None', options=['None'] + quantileable)\n",
    "\n",
    "@pn.depends(x.param.value, y.param.value, color.param.value, size.param.value) \n",
    "def create_figure(x, y, color, size):\n",
    "    opts = dict(cmap='rainbow', line_color='black', responsive=True)\n",
    "    if color != 'None':\n",
    "        opts['color'] = color \n",
    "    if size != 'None':\n",
    "        opts['size'] = hv.dim(size).norm()*20\n",
    "    return hv.Points(df, [x, y], label=\"%s vs %s\" % (x.title(), y.title())).opts(**opts)\n",
    "\n",
    "widgets = pn.WidgetBox(x, y, color, size, width=200)"
   ]
  },
  {
   "cell_type": "code",
   "execution_count": null,
   "metadata": {},
   "outputs": [],
   "source": [
    "dg = LuminoDataGrid(autompg, sizing_mode='stretch_both')\n",
    "@pn.depends(dg.param.selections)\n",
    "def print_selections(selections):\n",
    "    return pn.pane.JSON(selections)\n",
    "\n",
    "parameters = pn.Param(dg, parameters=['selection_mode', 'gridstyle', 'row_height', 'column_width'])\n",
    "parameters_reordered = pn.Column(parameters[0], parameters[1], parameters[4], parameters[2], parameters[3],sizing_mode=\"stretch_width\")\n",
    "\n",
    "pn.Row(\n",
    "    LuminoDock(\n",
    "        ('DataGrid Params', pn.Row(parameters_reordered, print_selections, sizing_mode='stretch_width')),\n",
    "        ('Plot Params', widgets),\n",
    "        width=300,\n",
    "    ),\n",
    "    LuminoDock(\n",
    "        ('DataGrid', dg),\n",
    "        ('Plot', pn.panel(create_figure,  sizing_mode = \"stretch_both\")),\n",
    "        sizing_mode=\"stretch_width\",\n",
    "    ), sizing_mode=\"stretch_both\"\n",
    ")"
   ]
  },
  {
   "cell_type": "code",
   "execution_count": null,
   "metadata": {},
   "outputs": [],
   "source": []
  }
 ],
 "metadata": {
  "kernelspec": {
   "display_name": "Python 3",
   "language": "python",
   "name": "python3"
  },
  "language_info": {
   "codemirror_mode": {
    "name": "ipython",
    "version": 3
   },
   "file_extension": ".py",
   "mimetype": "text/x-python",
   "name": "python",
   "nbconvert_exporter": "python",
   "pygments_lexer": "ipython3",
   "version": "3.8.2"
  }
 },
 "nbformat": 4,
 "nbformat_minor": 4
}
