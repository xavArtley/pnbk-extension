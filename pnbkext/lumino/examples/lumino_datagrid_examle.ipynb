{
 "cells": [
  {
   "cell_type": "code",
   "execution_count": null,
   "metadata": {},
   "outputs": [],
   "source": [
    "import panel as pn\n",
    "# from pnbkext.lumino.models.luminodock import LuminoDock\n",
    "from pnbkext.lumino.pane.lumino import LuminoDataGrid\n",
    "# must be import before calling pn.extension else model will not be register\n",
    "from bokeh.sampledata import airport_routes\n",
    "if pn.state.curdoc is not None:\n",
    "    # lumino css is already imported in juyter lab but not if deployed on a bokeh server\n",
    "    # importing a second time the css make jupyter lab not usable\n",
    "    import os\n",
    "    import pnbkext\n",
    "    with open(os.path.join(pnbkext.__path__[0], 'lumino', 'styles', 'style.css'), 'r') as f:\n",
    "        lumino_css = f.read()\n",
    "    pn.extension(raw_css=[lumino_css])\n",
    "else:\n",
    "    pn.extension()"
   ]
  },
  {
   "cell_type": "code",
   "execution_count": null,
   "metadata": {},
   "outputs": [],
   "source": [
    "dg = LuminoDataGrid(airport_routes.airports, sizing_mode='stretch_both')\n",
    "@pn.depends(dg.param.selections)\n",
    "def print_selections(selections):\n",
    "    return pn.pane.JSON(selections)\n",
    "\n",
    "parameters = pn.Param(dg, parameters=['selection_mode', 'gridstyle', 'row_height', 'column_width'])\n",
    "parameters_reordered = pn.Column(parameters[0], parameters[1], parameters[4], parameters[2], parameters[3], width=150)\n",
    "pn.Row(parameters_reordered, print_selections, dg, width=900).show()"
   ]
  },
  {
   "cell_type": "code",
   "execution_count": null,
   "metadata": {},
   "outputs": [],
   "source": [
    "pn.Row(parameters_reordered, print_selections, dg, width=900)"
   ]
  },
  {
   "cell_type": "code",
   "execution_count": null,
   "metadata": {},
   "outputs": [],
   "source": []
  }
 ],
 "metadata": {
  "kernelspec": {
   "display_name": "Python 3",
   "language": "python",
   "name": "python3"
  },
  "language_info": {
   "codemirror_mode": {
    "name": "ipython",
    "version": 3
   },
   "file_extension": ".py",
   "mimetype": "text/x-python",
   "name": "python",
   "nbconvert_exporter": "python",
   "pygments_lexer": "ipython3",
   "version": "3.8.2"
  }
 },
 "nbformat": 4,
 "nbformat_minor": 4
}
